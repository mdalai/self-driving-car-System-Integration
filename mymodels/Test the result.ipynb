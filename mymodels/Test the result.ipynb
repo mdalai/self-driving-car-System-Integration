{
 "cells": [
  {
   "cell_type": "code",
   "execution_count": 16,
   "metadata": {},
   "outputs": [],
   "source": [
    "import tensorflow as tf\n",
    "import os\n",
    "from matplotlib import pyplot as plt\n",
    "from PIL import Image\n",
    "import numpy as np\n",
    "\n",
    "%matplotlib inline"
   ]
  },
  {
   "cell_type": "code",
   "execution_count": 24,
   "metadata": {},
   "outputs": [
    {
     "name": "stdout",
     "output_type": "stream",
     "text": [
      "data\t\t\t   models\t\t\t Test the result.ipynb\r\n",
      "export_inference_graph.py  ssd_mobilenet_v1_coco.config  train.py\r\n",
      "fine_tuned_model\t   test_images\r\n"
     ]
    }
   ],
   "source": [
    "!cd ../models/research/object_detection"
   ]
  },
  {
   "cell_type": "code",
   "execution_count": 22,
   "metadata": {},
   "outputs": [],
   "source": [
    "!export PYTHONPATH=$PYTHONPATH:`pwd`:`pwd`/slim"
   ]
  },
  {
   "cell_type": "code",
   "execution_count": 23,
   "metadata": {},
   "outputs": [
    {
     "ename": "ImportError",
     "evalue": "No module named utils",
     "output_type": "error",
     "traceback": [
      "\u001b[0;31m---------------------------------------------------------------------------\u001b[0m",
      "\u001b[0;31mImportError\u001b[0m                               Traceback (most recent call last)",
      "\u001b[0;32m<ipython-input-23-aa270cd948af>\u001b[0m in \u001b[0;36m<module>\u001b[0;34m()\u001b[0m\n\u001b[0;32m----> 1\u001b[0;31m \u001b[0;32mfrom\u001b[0m \u001b[0mutils\u001b[0m \u001b[0;32mimport\u001b[0m \u001b[0mlabel_map_util\u001b[0m\u001b[0;34m\u001b[0m\u001b[0m\n\u001b[0m\u001b[1;32m      2\u001b[0m \u001b[0;34m\u001b[0m\u001b[0m\n\u001b[1;32m      3\u001b[0m \u001b[0;32mfrom\u001b[0m \u001b[0mutils\u001b[0m \u001b[0;32mimport\u001b[0m \u001b[0mvisualization_utils\u001b[0m \u001b[0;32mas\u001b[0m \u001b[0mvis_util\u001b[0m\u001b[0;34m\u001b[0m\u001b[0m\n",
      "\u001b[0;31mImportError\u001b[0m: No module named utils"
     ]
    }
   ],
   "source": [
    "from utils import label_map_util\n",
    "\n",
    "from utils import visualization_utils as vis_util"
   ]
  },
  {
   "cell_type": "code",
   "execution_count": 4,
   "metadata": {},
   "outputs": [],
   "source": [
    "class TrafficLightClassifier(object):\n",
    "    def __init__(self):\n",
    "        PATH_TO_MODEL = 'fine_tuned_model/frozen_inference_graph.pb'\n",
    "        self.detection_graph = tf.Graph()\n",
    "        with self.detection_graph.as_default():\n",
    "            od_graph_def = tf.GraphDef()\n",
    "            # Works up to here.\n",
    "            with tf.gfile.GFile(PATH_TO_MODEL, 'rb') as fid:\n",
    "                serialized_graph = fid.read()\n",
    "                od_graph_def.ParseFromString(serialized_graph)\n",
    "                tf.import_graph_def(od_graph_def, name='')\n",
    "            self.image_tensor = self.detection_graph.get_tensor_by_name('image_tensor:0')\n",
    "            self.d_boxes = self.detection_graph.get_tensor_by_name('detection_boxes:0')\n",
    "            self.d_scores = self.detection_graph.get_tensor_by_name('detection_scores:0')\n",
    "            self.d_classes = self.detection_graph.get_tensor_by_name('detection_classes:0')\n",
    "            self.num_d = self.detection_graph.get_tensor_by_name('num_detections:0')\n",
    "        self.sess = tf.Session(graph=self.detection_graph)\n",
    "        \n",
    "        \n",
    "    def get_classification(self, img):\n",
    "        # Bounding Box Detection.\n",
    "        with self.detection_graph.as_default():\n",
    "            # Expand dimension since the model expects image to have shape [1, None, None, 3].\n",
    "            img_expanded = np.expand_dims(img, axis=0)  \n",
    "            (boxes, scores, classes, num) = self.sess.run(\n",
    "                [self.d_boxes, self.d_scores, self.d_classes, self.num_d],\n",
    "                feed_dict={self.image_tensor: img_expanded})\n",
    "        return boxes, scores, classes, num"
   ]
  },
  {
   "cell_type": "code",
   "execution_count": 7,
   "metadata": {},
   "outputs": [],
   "source": [
    "PATH_TO_CKPT = 'fine_tuned_model/frozen_inference_graph.pb'\n",
    "PATH_TO_LABELS = os.path.join('data', 'sim_label_map.pbtxt')\n",
    "NUM_CLASSES = 3"
   ]
  },
  {
   "cell_type": "code",
   "execution_count": 8,
   "metadata": {},
   "outputs": [],
   "source": [
    "detection_graph = tf.Graph()\n",
    "with detection_graph.as_default():\n",
    "  od_graph_def = tf.GraphDef()\n",
    "  with tf.gfile.GFile(PATH_TO_CKPT, 'rb') as fid:\n",
    "    serialized_graph = fid.read()\n",
    "    od_graph_def.ParseFromString(serialized_graph)\n",
    "    tf.import_graph_def(od_graph_def, name='')"
   ]
  },
  {
   "cell_type": "code",
   "execution_count": null,
   "metadata": {},
   "outputs": [],
   "source": [
    "label_map = label_map_util.load_labelmap(PATH_TO_LABELS)\n",
    "categories = label_map_util.convert_label_map_to_categories(label_map, max_num_classes=NUM_CLASSES, use_display_name=True)\n",
    "category_index = label_map_util.create_category_index(categories)"
   ]
  },
  {
   "cell_type": "code",
   "execution_count": 9,
   "metadata": {},
   "outputs": [],
   "source": [
    "def load_image_into_numpy_array(image):\n",
    "  (im_width, im_height) = image.size\n",
    "  return np.array(image.getdata()).reshape(\n",
    "      (im_height, im_width, 3)).astype(np.uint8)"
   ]
  },
  {
   "cell_type": "code",
   "execution_count": 17,
   "metadata": {},
   "outputs": [],
   "source": [
    "test_img_path = 'test_images/out00002.png'\n",
    "test_img = Image.open(test_img_path)\n",
    "img = load_image_into_numpy_array(test_img)"
   ]
  },
  {
   "cell_type": "code",
   "execution_count": 18,
   "metadata": {},
   "outputs": [],
   "source": [
    "tlc  =TrafficLightClassifier()"
   ]
  },
  {
   "cell_type": "code",
   "execution_count": 19,
   "metadata": {},
   "outputs": [
    {
     "data": {
      "text/plain": [
       "(array([[[0.        , 0.8369585 , 0.33774036, 1.        ],\n",
       "         [0.        , 0.88024783, 0.31456298, 1.        ],\n",
       "         [0.        , 0.4683299 , 0.33946016, 0.70994174],\n",
       "         [0.        , 0.5731171 , 0.33047912, 0.7995612 ],\n",
       "         [0.        , 0.8132633 , 0.29853594, 0.9979738 ],\n",
       "         [0.        , 0.4683299 , 0.33946016, 0.70994174],\n",
       "         [0.        , 0.6773695 , 0.3055301 , 0.8953929 ],\n",
       "         [0.        , 0.5731171 , 0.33047912, 0.7995612 ],\n",
       "         [0.        , 0.38863432, 0.32779253, 0.60894424],\n",
       "         [0.76132274, 0.69450164, 0.9463724 , 1.        ],\n",
       "         [0.        , 0.20114483, 0.27187282, 0.3886726 ],\n",
       "         [0.68044674, 0.03782097, 1.        , 0.24524337],\n",
       "         [0.        , 0.2412239 , 0.87280226, 0.6719731 ],\n",
       "         [0.        , 0.6253805 , 0.8788773 , 1.        ],\n",
       "         [0.        , 0.3013991 , 0.2933914 , 0.5060641 ],\n",
       "         [0.56236076, 0.64166355, 1.        , 1.        ],\n",
       "         [0.        , 0.38863432, 0.32779253, 0.60894424],\n",
       "         [0.71206874, 0.14960033, 1.        , 0.34462696],\n",
       "         [0.48395404, 0.20547046, 1.        , 0.48323244],\n",
       "         [0.5902893 , 0.85166556, 1.        , 1.        ],\n",
       "         [0.6869428 , 0.24473885, 1.        , 0.45381382],\n",
       "         [0.54723823, 0.        , 0.901464  , 1.        ],\n",
       "         [0.6982247 , 0.7661957 , 1.        , 0.9560607 ],\n",
       "         [0.        , 0.        , 0.23537353, 0.5900802 ],\n",
       "         [0.58858   , 0.        , 1.        , 0.11750169],\n",
       "         [0.        , 0.        , 0.32633287, 0.1405285 ],\n",
       "         [0.        , 0.03317105, 0.5167583 , 0.23124129],\n",
       "         [0.6132428 , 0.19000652, 1.        , 0.6952317 ],\n",
       "         [0.        , 0.40872195, 0.6457026 , 1.        ],\n",
       "         [0.42526007, 0.43119448, 1.        , 1.        ],\n",
       "         [0.5945925 , 0.00932892, 1.        , 0.4952479 ],\n",
       "         [0.        , 0.3013991 , 0.2933914 , 0.5060641 ],\n",
       "         [0.86735773, 0.5502683 , 1.        , 1.        ],\n",
       "         [0.        , 0.        , 0.78550726, 0.33386785],\n",
       "         [0.67327666, 0.82651615, 1.        , 1.        ],\n",
       "         [0.36293748, 0.7503826 , 0.98072946, 1.        ],\n",
       "         [0.16510403, 0.        , 1.        , 0.6466705 ],\n",
       "         [0.54712534, 0.11174148, 1.        , 0.3773872 ],\n",
       "         [0.        , 0.6773695 , 0.3055301 , 0.8953929 ],\n",
       "         [0.51435566, 0.5440181 , 0.95179784, 0.7746801 ],\n",
       "         [0.        , 0.6173729 , 0.40681976, 1.        ],\n",
       "         [0.        , 0.2749024 , 0.18205449, 0.7040324 ],\n",
       "         [0.6818019 , 0.3359924 , 1.        , 0.5564762 ],\n",
       "         [0.1940386 , 0.12604743, 0.40110365, 0.6845979 ],\n",
       "         [0.76550657, 0.        , 1.        , 0.27705657],\n",
       "         [0.        , 0.45447308, 0.33872807, 0.8943338 ],\n",
       "         [0.3486067 , 0.60292053, 0.5638703 , 1.        ],\n",
       "         [0.5160831 , 0.3137651 , 1.        , 0.5718941 ],\n",
       "         [0.69429505, 0.        , 0.94106185, 0.38202035],\n",
       "         [0.38965762, 0.        , 0.75369143, 0.28123   ],\n",
       "         [0.        , 0.06167801, 0.21078484, 0.51623267],\n",
       "         [0.5991913 , 0.12246877, 0.94859433, 1.        ],\n",
       "         [0.        , 0.53998566, 0.18887568, 1.        ],\n",
       "         [0.70289856, 0.6368111 , 0.9777401 , 1.        ],\n",
       "         [0.37708947, 0.5131907 , 0.8206824 , 0.77680236],\n",
       "         [0.30315387, 0.        , 0.65386623, 0.71389115],\n",
       "         [0.        , 0.5875775 , 0.2258125 , 1.        ],\n",
       "         [0.54450893, 0.6489462 , 0.9209529 , 0.89455074],\n",
       "         [0.        , 0.        , 0.31651583, 0.28150707],\n",
       "         [0.5297798 , 0.6822994 , 0.77694523, 1.        ],\n",
       "         [0.6341853 , 0.        , 0.9477823 , 0.28357473],\n",
       "         [0.51262593, 0.        , 0.8623657 , 0.2890387 ],\n",
       "         [0.4148365 , 0.23317492, 0.9739399 , 0.7481758 ],\n",
       "         [0.76550657, 0.        , 1.        , 0.27705657],\n",
       "         [0.        , 0.37947422, 0.1739327 , 0.82465905],\n",
       "         [0.00192618, 0.11056098, 1.        , 1.        ],\n",
       "         [0.40715674, 0.04937404, 0.92641854, 0.23439151],\n",
       "         [0.2910877 , 0.8426496 , 0.6699749 , 1.        ],\n",
       "         [0.29669157, 0.        , 0.65319383, 0.27727348],\n",
       "         [0.7384611 , 0.42933816, 1.        , 0.653258  ],\n",
       "         [0.11219701, 0.        , 0.46664152, 1.        ],\n",
       "         [0.        , 0.09154063, 0.2876249 , 0.2865044 ],\n",
       "         [0.47987008, 0.15605448, 0.9578446 , 0.367382  ],\n",
       "         [0.04338891, 0.41395837, 0.27418542, 0.88683206],\n",
       "         [0.        , 0.20114483, 0.27187282, 0.3886726 ],\n",
       "         [0.13089484, 0.3156904 , 0.80615634, 0.72976375],\n",
       "         [0.        , 0.6124598 , 0.49165463, 0.87728703],\n",
       "         [0.22057235, 0.2861002 , 0.87699413, 0.756476  ],\n",
       "         [0.        , 0.        , 0.7187881 , 0.615825  ],\n",
       "         [0.        , 0.43164003, 0.22997797, 0.58197176],\n",
       "         [0.40094465, 0.13767585, 0.85382825, 0.3540163 ],\n",
       "         [0.50564766, 0.63337845, 0.9529339 , 1.        ],\n",
       "         [0.74397695, 0.        , 0.95809674, 0.6337145 ],\n",
       "         [0.        , 0.12141255, 0.6516813 , 0.4716986 ],\n",
       "         [0.8538008 , 0.        , 1.        , 0.5779269 ],\n",
       "         [0.7424809 , 0.65810823, 1.        , 0.8677031 ],\n",
       "         [0.25497234, 0.502861  , 0.6973421 , 0.7716589 ],\n",
       "         [0.20728663, 0.        , 0.53805757, 0.23860572],\n",
       "         [0.        , 0.48697516, 0.19898766, 0.9075955 ],\n",
       "         [0.07358606, 0.14061858, 0.53996295, 0.373129  ],\n",
       "         [0.7073294 , 0.08984756, 0.96389735, 0.54684293],\n",
       "         [0.16265082, 0.47748667, 1.        , 1.        ],\n",
       "         [0.26976746, 0.15970773, 0.46923083, 0.6815326 ],\n",
       "         [0.40237784, 0.62850994, 0.8162849 , 0.8886762 ],\n",
       "         [0.38965762, 0.        , 0.75369143, 0.28123   ],\n",
       "         [0.5672293 , 0.        , 0.6512271 , 0.09033233],\n",
       "         [0.45003164, 0.        , 1.        , 0.48745438],\n",
       "         [0.        , 0.19653946, 0.56455386, 0.79767346],\n",
       "         [0.49266043, 0.3395752 , 0.93718183, 0.5646088 ],\n",
       "         [0.        , 0.16097914, 0.18927826, 0.6198604 ]]], dtype=float32),\n",
       " array([[0.9739379 , 0.95289284, 0.9317848 , 0.92640764, 0.9243266 ,\n",
       "         0.90637976, 0.8974918 , 0.89546466, 0.89036024, 0.86972547,\n",
       "         0.8660537 , 0.8652322 , 0.8590416 , 0.8468537 , 0.843542  ,\n",
       "         0.84238136, 0.8399923 , 0.8384619 , 0.8363599 , 0.83043116,\n",
       "         0.82979745, 0.8254626 , 0.8173916 , 0.8158189 , 0.8139031 ,\n",
       "         0.8099531 , 0.80677396, 0.80547893, 0.8002016 , 0.7987159 ,\n",
       "         0.7968524 , 0.79538023, 0.7946258 , 0.7940067 , 0.7930807 ,\n",
       "         0.7919876 , 0.7899377 , 0.78968906, 0.78393793, 0.78301466,\n",
       "         0.78231287, 0.78048253, 0.7801818 , 0.77581346, 0.77173597,\n",
       "         0.7716544 , 0.77126414, 0.7711297 , 0.7709758 , 0.76667804,\n",
       "         0.76653373, 0.76482177, 0.7647422 , 0.76335627, 0.7630103 ,\n",
       "         0.7625151 , 0.7615347 , 0.76032716, 0.7594226 , 0.75893515,\n",
       "         0.7581294 , 0.7573213 , 0.7557325 , 0.7556088 , 0.7533954 ,\n",
       "         0.75339127, 0.7533273 , 0.7519819 , 0.7516905 , 0.7507396 ,\n",
       "         0.7506291 , 0.75046974, 0.7499093 , 0.7498311 , 0.74792564,\n",
       "         0.74743086, 0.7468458 , 0.7460847 , 0.7457799 , 0.7452246 ,\n",
       "         0.74402124, 0.7414344 , 0.7413963 , 0.7401304 , 0.7400796 ,\n",
       "         0.7393891 , 0.73805207, 0.7360058 , 0.73555636, 0.7338039 ,\n",
       "         0.7303161 , 0.7299501 , 0.7298148 , 0.7291155 , 0.72881234,\n",
       "         0.7285798 , 0.7283686 , 0.7279593 , 0.72512513, 0.72451514]],\n",
       "       dtype=float32),\n",
       " array([[3., 2., 1., 1., 1., 3., 1., 3., 3., 2., 1., 3., 1., 1., 1., 1.,\n",
       "         1., 2., 3., 1., 2., 3., 2., 3., 3., 3., 3., 2., 1., 1., 2., 3.,\n",
       "         2., 1., 2., 2., 2., 3., 3., 2., 1., 1., 2., 2., 3., 2., 2., 3.,\n",
       "         2., 3., 2., 2., 3., 2., 2., 1., 2., 2., 2., 2., 3., 3., 2., 2.,\n",
       "         2., 1., 3., 2., 3., 2., 2., 1., 2., 1., 3., 2., 3., 3., 1., 3.,\n",
       "         2., 2., 3., 2., 3., 2., 2., 3., 2., 2., 1., 3., 1., 2., 2., 2.,\n",
       "         1., 3., 2., 2.]], dtype=float32),\n",
       " array([100.], dtype=float32))"
      ]
     },
     "execution_count": 19,
     "metadata": {},
     "output_type": "execute_result"
    }
   ],
   "source": [
    "tlc.get_classification(img)"
   ]
  },
  {
   "cell_type": "code",
   "execution_count": null,
   "metadata": {},
   "outputs": [],
   "source": []
  }
 ],
 "metadata": {
  "kernelspec": {
   "display_name": "Python 2",
   "language": "python",
   "name": "python2"
  },
  "language_info": {
   "codemirror_mode": {
    "name": "ipython",
    "version": 2
   },
   "file_extension": ".py",
   "mimetype": "text/x-python",
   "name": "python",
   "nbconvert_exporter": "python",
   "pygments_lexer": "ipython2",
   "version": "2.7.12"
  }
 },
 "nbformat": 4,
 "nbformat_minor": 2
}
