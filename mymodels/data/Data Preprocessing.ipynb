{
 "cells": [
  {
   "cell_type": "code",
   "execution_count": 1,
   "metadata": {},
   "outputs": [],
   "source": [
    "import os\n",
    "import sys\n",
    "import glob"
   ]
  },
  {
   "cell_type": "code",
   "execution_count": 2,
   "metadata": {},
   "outputs": [
    {
     "data": {
      "text/plain": [
       "u'/home/dalai/carnd/data'"
      ]
     },
     "execution_count": 2,
     "metadata": {},
     "output_type": "execute_result"
    }
   ],
   "source": [
    "%pwd"
   ]
  },
  {
   "cell_type": "code",
   "execution_count": 18,
   "metadata": {},
   "outputs": [],
   "source": [
    "data_path = 'sim-data/sim-slack'\n",
    "out_path = 'sim'"
   ]
  },
  {
   "cell_type": "code",
   "execution_count": 5,
   "metadata": {},
   "outputs": [
    {
     "data": {
      "text/plain": [
       "['Red', 'None', 'Yellow', 'Green']"
      ]
     },
     "execution_count": 5,
     "metadata": {},
     "output_type": "execute_result"
    }
   ],
   "source": [
    "os.listdir(data_path)"
   ]
  },
  {
   "cell_type": "code",
   "execution_count": 25,
   "metadata": {},
   "outputs": [],
   "source": [
    "# move the files and rename\n",
    "for folder in os.listdir(data_path):\n",
    "    for i,filename in enumerate(os.listdir(os.path.join(data_path,folder))):\n",
    "        os.rename(os.path.join(data_path,folder,filename),os.path.join(out_path,folder+str(i+1)+'.jpg'))"
   ]
  },
  {
   "cell_type": "code",
   "execution_count": 27,
   "metadata": {},
   "outputs": [],
   "source": [
    "# remove the folder\n",
    "%rm -R 'sim-data/sim-slack'"
   ]
  },
  {
   "cell_type": "code",
   "execution_count": 10,
   "metadata": {},
   "outputs": [
    {
     "name": "stdout",
     "output_type": "stream",
     "text": [
      "Red:133, Green:59, Yellow:44\n"
     ]
    }
   ],
   "source": [
    "# count img files\n",
    "cnt_red =  cnt_green = cnt_yellow = 0\n",
    "for filename in os.listdir('sim'):\n",
    "    #print(filename[0])\n",
    "    if filename[0] == 'R':\n",
    "        cnt_red = cnt_red + 1\n",
    "    elif filename[0] == 'G':\n",
    "        cnt_green = cnt_green + 1\n",
    "    elif filename[0] == 'Y':\n",
    "        cnt_yellow = cnt_yellow + 1\n",
    "    else:\n",
    "        print(\"WRONG\")\n",
    "        \n",
    "print('Red:{}, Green:{}, Yellow:{}'.format(cnt_red,cnt_green,cnt_yellow))"
   ]
  },
  {
   "cell_type": "code",
   "execution_count": 14,
   "metadata": {},
   "outputs": [
    {
     "name": "stdout",
     "output_type": "stream",
     "text": [
      "Different file:classes.txt\n",
      "Red:133, Green:59, Yellow:44\n"
     ]
    }
   ],
   "source": [
    "# count annotation files\n",
    "cnt_red =  cnt_green = cnt_yellow = 0\n",
    "for filename in os.listdir('label'):\n",
    "    #print(filename[0])\n",
    "    if filename[0] == 'R':\n",
    "        cnt_red = cnt_red + 1\n",
    "    elif filename[0] == 'G':\n",
    "        cnt_green = cnt_green + 1\n",
    "    elif filename[0] == 'Y':\n",
    "        cnt_yellow = cnt_yellow + 1\n",
    "    else:\n",
    "        print('Different file:{}'.format(filename))\n",
    "        \n",
    "print('Red:{}, Green:{}, Yellow:{}'.format(cnt_red,cnt_green,cnt_yellow))"
   ]
  },
  {
   "cell_type": "code",
   "execution_count": 6,
   "metadata": {},
   "outputs": [],
   "source": [
    "from lxml import etree\n",
    "import tensorflow as tf\n",
    "import sys\n",
    "\n",
    "sys.path.append(\"../models/research\")\n",
    "\n",
    "from object_detection.utils import dataset_util\n",
    "#from object_detection.utils import label_map_util"
   ]
  },
  {
   "cell_type": "code",
   "execution_count": 7,
   "metadata": {},
   "outputs": [],
   "source": [
    "xml_file = 'label/Green16.xml'"
   ]
  },
  {
   "cell_type": "code",
   "execution_count": 8,
   "metadata": {},
   "outputs": [],
   "source": [
    "with tf.gfile.GFile(xml_file,'r') as fid:\n",
    "    xml = fid.read()"
   ]
  },
  {
   "cell_type": "code",
   "execution_count": 9,
   "metadata": {},
   "outputs": [],
   "source": [
    "xml2= etree.fromstring(xml)"
   ]
  },
  {
   "cell_type": "code",
   "execution_count": 10,
   "metadata": {
    "scrolled": true
   },
   "outputs": [
    {
     "name": "stderr",
     "output_type": "stream",
     "text": [
      "object_detection/utils/dataset_util.py:75: FutureWarning: The behavior of this method will change in future versions. Use specific 'len(elem)' or 'elem is not None' test instead.\n",
      "  if not xml:\n"
     ]
    }
   ],
   "source": [
    "data = dataset_util.recursive_parse_xml_to_dict(xml2)['annotation']"
   ]
  },
  {
   "cell_type": "code",
   "execution_count": 17,
   "metadata": {},
   "outputs": [
    {
     "name": "stdout",
     "output_type": "stream",
     "text": [
      "91\n",
      "328\n",
      "557\n"
     ]
    }
   ],
   "source": [
    "for obj in data['object']:\n",
    "    d = obj['bndbox']['xmin']\n",
    "    print(d)"
   ]
  },
  {
   "cell_type": "code",
   "execution_count": null,
   "metadata": {},
   "outputs": [],
   "source": []
  },
  {
   "cell_type": "code",
   "execution_count": null,
   "metadata": {},
   "outputs": [],
   "source": []
  },
  {
   "cell_type": "code",
   "execution_count": null,
   "metadata": {},
   "outputs": [],
   "source": []
  },
  {
   "cell_type": "code",
   "execution_count": 15,
   "metadata": {},
   "outputs": [
    {
     "ename": "IndentationError",
     "evalue": "expected an indented block (<ipython-input-15-9eb73b3fdbdb>, line 22)",
     "output_type": "error",
     "traceback": [
      "\u001b[0;36m  File \u001b[0;32m\"<ipython-input-15-9eb73b3fdbdb>\"\u001b[0;36m, line \u001b[0;32m22\u001b[0m\n\u001b[0;31m    with self.detection_graph.as_default():\u001b[0m\n\u001b[0m       ^\u001b[0m\n\u001b[0;31mIndentationError\u001b[0m\u001b[0;31m:\u001b[0m expected an indented block\n"
     ]
    }
   ],
   "source": [
    "class TrafficLightClassifier(object):\n",
    "    def __init__(self):\n",
    "        PATH_TO_MODEL = 'frozen_inference_graph.pb'\n",
    "        self.detection_graph = tf.Graph()\n",
    "        with self.detection_graph.as_default():\n",
    "            od_graph_def = tf.GraphDef()\n",
    "            # Works up to here.\n",
    "            with tf.gfile.GFile(PATH_TO_MODEL, 'rb') as fid:\n",
    "                serialized_graph = fid.read()\n",
    "                od_graph_def.ParseFromString(serialized_graph)\n",
    "                tf.import_graph_def(od_graph_def, name='')\n",
    "            self.image_tensor = self.detection_graph.get_tensor_by_name('image_tensor:0')\n",
    "            self.d_boxes = self.detection_graph.get_tensor_by_name('detection_boxes:0')\n",
    "            self.d_scores = self.detection_graph.get_tensor_by_name('detection_scores:0')\n",
    "            self.d_classes = self.detection_graph.get_tensor_by_name('detection_classes:0')\n",
    "            self.num_d = self.detection_graph.get_tensor_by_name('num_detections:0')\n",
    "        self.sess = tf.Session(graph=self.detection_graph)\n",
    "        \n",
    "        \n",
    "    def get_classification(self, img):\n",
    "    # Bounding Box Detection.\n",
    "    with self.detection_graph.as_default():\n",
    "        # Expand dimension since the model expects image to have shape [1, None, None, 3].\n",
    "        img_expanded = np.expand_dims(img, axis=0)  \n",
    "        (boxes, scores, classes, num) = self.sess.run(\n",
    "            [self.d_boxes, self.d_scores, self.d_classes, self.num_d],\n",
    "            feed_dict={self.image_tensor: img_expanded})\n",
    "    return boxes, scores, classes, num"
   ]
  },
  {
   "cell_type": "code",
   "execution_count": null,
   "metadata": {},
   "outputs": [],
   "source": []
  }
 ],
 "metadata": {
  "kernelspec": {
   "display_name": "Python 2",
   "language": "python",
   "name": "python2"
  },
  "language_info": {
   "codemirror_mode": {
    "name": "ipython",
    "version": 2
   },
   "file_extension": ".py",
   "mimetype": "text/x-python",
   "name": "python",
   "nbconvert_exporter": "python",
   "pygments_lexer": "ipython2",
   "version": "2.7.12"
  }
 },
 "nbformat": 4,
 "nbformat_minor": 2
}
